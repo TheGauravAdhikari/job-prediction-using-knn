{
 "cells": [
  {
   "cell_type": "code",
   "execution_count": 1,
   "id": "c96a15df-ee45-48dd-9a9d-a894a20daf40",
   "metadata": {},
   "outputs": [],
   "source": [
    "import pickle\n",
    "import pandas as pd\n",
    "from sklearn.feature_extraction.text import TfidfVectorizer"
   ]
  },
  {
   "cell_type": "code",
   "execution_count": 2,
   "id": "6757a91b-f4ae-473f-93e2-7d7e60584877",
   "metadata": {},
   "outputs": [],
   "source": [
    "# Step 1: Load the pickled model and vectorizer\n",
    "with open('model.pk', 'rb') as model_file:\n",
    "    X_train, y_train = pickle.load(model_file)  # Load training data for prediction use"
   ]
  },
  {
   "cell_type": "code",
   "execution_count": 3,
   "id": "cf5028e4-a8e4-4fb9-b891-c00e6353174c",
   "metadata": {},
   "outputs": [],
   "source": [
    "\n",
    "with open('vectorizer.pk', 'rb') as vectorizer_file:\n",
    "    vectorizer = pickle.load(vectorizer_file)  # Load the vectorizer"
   ]
  },
  {
   "cell_type": "code",
   "execution_count": 4,
   "id": "b09cfadc-c331-416f-995b-e9ca54fac8ec",
   "metadata": {},
   "outputs": [],
   "source": [
    "# Step 2: Function to clean and vectorize a job description\n",
    "def preprocess_description(description):\n",
    "    # Clean the job description\n",
    "    description = description.lower().replace(r'[^a-z\\s]', '')  # Clean text\n",
    "    # Vectorize the description\n",
    "    vectorized_description = vectorizer.transform([description]).toarray()\n",
    "    return vectorized_description"
   ]
  },
  {
   "cell_type": "code",
   "execution_count": 5,
   "id": "94b6e9e4-e964-4a1a-82fd-67fec92bbfb8",
   "metadata": {},
   "outputs": [],
   "source": [
    "# Step 3: Make a prediction\n",
    "def predict_job_title(description):\n",
    "    vectorized_description = preprocess_description(description)\n",
    "    predicted_label = predict(X_train, y_train, vectorized_description[0], num_neighbors=5)\n",
    "    return predicted_label  # Return the predicted job title\n"
   ]
  },
  {
   "cell_type": "code",
   "execution_count": 6,
   "id": "2138f21c-fb8b-40f3-a1e3-9219d349281f",
   "metadata": {},
   "outputs": [],
   "source": [
    "# Step 4: Define the prediction function\n",
    "def predict(X_train, y_train, test_row, num_neighbors):\n",
    "    neighbors = get_neighbors(X_train, y_train, test_row, num_neighbors)\n",
    "    prediction = max(set(neighbors), key=neighbors.count)\n",
    "    return prediction"
   ]
  },
  {
   "cell_type": "code",
   "execution_count": 7,
   "id": "dbcce666-f2bb-4b75-8b88-37154f0d8e08",
   "metadata": {},
   "outputs": [],
   "source": [
    "# Step 5: Get neighbors based on Euclidean distance\n",
    "def get_neighbors(X_train, y_train, test_row, num_neighbors):\n",
    "    distances = []\n",
    "    for i in range(len(X_train)):\n",
    "        dist = euclidean_distance(test_row, X_train[i])\n",
    "        distances.append((y_train.iloc[i], dist))\n",
    "    distances.sort(key=lambda x: x[1])\n",
    "    neighbors = [distances[i][0] for i in range(num_neighbors)]\n",
    "    return neighbors"
   ]
  },
  {
   "cell_type": "code",
   "execution_count": 8,
   "id": "3e800a2e-30a4-4d63-aecf-c432ccd00aba",
   "metadata": {},
   "outputs": [],
   "source": [
    "# Step 6: Calculate the Euclidean distance\n",
    "def euclidean_distance(row1, row2):\n",
    "    return np.sqrt(np.sum((row1 - row2) ** 2))"
   ]
  },
  {
   "cell_type": "code",
   "execution_count": 10,
   "id": "ceeec350-b633-4dcf-b275-a38766664151",
   "metadata": {},
   "outputs": [
    {
     "ename": "NameError",
     "evalue": "name 'np' is not defined",
     "output_type": "error",
     "traceback": [
      "\u001b[1;31m---------------------------------------------------------------------------\u001b[0m",
      "\u001b[1;31mNameError\u001b[0m                                 Traceback (most recent call last)",
      "Cell \u001b[1;32mIn[10], line 3\u001b[0m\n\u001b[0;32m      1\u001b[0m \u001b[38;5;66;03m# Example usage\u001b[39;00m\n\u001b[0;32m      2\u001b[0m input_description \u001b[38;5;241m=\u001b[39m \u001b[38;5;124m\"\u001b[39m\u001b[38;5;124mLooking for a software engineer with experience in Python and machine learning.\u001b[39m\u001b[38;5;124m\"\u001b[39m\n\u001b[1;32m----> 3\u001b[0m predicted_job_title \u001b[38;5;241m=\u001b[39m \u001b[43mpredict_job_title\u001b[49m\u001b[43m(\u001b[49m\u001b[43minput_description\u001b[49m\u001b[43m)\u001b[49m\n\u001b[0;32m      4\u001b[0m \u001b[38;5;28mprint\u001b[39m(\u001b[38;5;124mf\u001b[39m\u001b[38;5;124m'\u001b[39m\u001b[38;5;124mPredicted Job Title: \u001b[39m\u001b[38;5;132;01m{\u001b[39;00mpredicted_job_title\u001b[38;5;132;01m}\u001b[39;00m\u001b[38;5;124m'\u001b[39m)\n",
      "Cell \u001b[1;32mIn[5], line 4\u001b[0m, in \u001b[0;36mpredict_job_title\u001b[1;34m(description)\u001b[0m\n\u001b[0;32m      2\u001b[0m \u001b[38;5;28;01mdef\u001b[39;00m \u001b[38;5;21mpredict_job_title\u001b[39m(description):\n\u001b[0;32m      3\u001b[0m     vectorized_description \u001b[38;5;241m=\u001b[39m preprocess_description(description)\n\u001b[1;32m----> 4\u001b[0m     predicted_label \u001b[38;5;241m=\u001b[39m \u001b[43mpredict\u001b[49m\u001b[43m(\u001b[49m\u001b[43mX_train\u001b[49m\u001b[43m,\u001b[49m\u001b[43m \u001b[49m\u001b[43my_train\u001b[49m\u001b[43m,\u001b[49m\u001b[43m \u001b[49m\u001b[43mvectorized_description\u001b[49m\u001b[43m[\u001b[49m\u001b[38;5;241;43m0\u001b[39;49m\u001b[43m]\u001b[49m\u001b[43m,\u001b[49m\u001b[43m \u001b[49m\u001b[43mnum_neighbors\u001b[49m\u001b[38;5;241;43m=\u001b[39;49m\u001b[38;5;241;43m5\u001b[39;49m\u001b[43m)\u001b[49m\n\u001b[0;32m      5\u001b[0m     \u001b[38;5;28;01mreturn\u001b[39;00m predicted_label\n",
      "Cell \u001b[1;32mIn[6], line 3\u001b[0m, in \u001b[0;36mpredict\u001b[1;34m(X_train, y_train, test_row, num_neighbors)\u001b[0m\n\u001b[0;32m      2\u001b[0m \u001b[38;5;28;01mdef\u001b[39;00m \u001b[38;5;21mpredict\u001b[39m(X_train, y_train, test_row, num_neighbors):\n\u001b[1;32m----> 3\u001b[0m     neighbors \u001b[38;5;241m=\u001b[39m \u001b[43mget_neighbors\u001b[49m\u001b[43m(\u001b[49m\u001b[43mX_train\u001b[49m\u001b[43m,\u001b[49m\u001b[43m \u001b[49m\u001b[43my_train\u001b[49m\u001b[43m,\u001b[49m\u001b[43m \u001b[49m\u001b[43mtest_row\u001b[49m\u001b[43m,\u001b[49m\u001b[43m \u001b[49m\u001b[43mnum_neighbors\u001b[49m\u001b[43m)\u001b[49m\n\u001b[0;32m      4\u001b[0m     prediction \u001b[38;5;241m=\u001b[39m \u001b[38;5;28mmax\u001b[39m(\u001b[38;5;28mset\u001b[39m(neighbors), key\u001b[38;5;241m=\u001b[39mneighbors\u001b[38;5;241m.\u001b[39mcount)\n\u001b[0;32m      5\u001b[0m     \u001b[38;5;28;01mreturn\u001b[39;00m prediction\n",
      "Cell \u001b[1;32mIn[7], line 5\u001b[0m, in \u001b[0;36mget_neighbors\u001b[1;34m(X_train, y_train, test_row, num_neighbors)\u001b[0m\n\u001b[0;32m      3\u001b[0m distances \u001b[38;5;241m=\u001b[39m []\n\u001b[0;32m      4\u001b[0m \u001b[38;5;28;01mfor\u001b[39;00m i \u001b[38;5;129;01min\u001b[39;00m \u001b[38;5;28mrange\u001b[39m(\u001b[38;5;28mlen\u001b[39m(X_train)):\n\u001b[1;32m----> 5\u001b[0m     dist \u001b[38;5;241m=\u001b[39m \u001b[43meuclidean_distance\u001b[49m\u001b[43m(\u001b[49m\u001b[43mtest_row\u001b[49m\u001b[43m,\u001b[49m\u001b[43m \u001b[49m\u001b[43mX_train\u001b[49m\u001b[43m[\u001b[49m\u001b[43mi\u001b[49m\u001b[43m]\u001b[49m\u001b[43m)\u001b[49m\n\u001b[0;32m      6\u001b[0m     distances\u001b[38;5;241m.\u001b[39mappend((y_train\u001b[38;5;241m.\u001b[39miloc[i], dist))\n\u001b[0;32m      7\u001b[0m distances\u001b[38;5;241m.\u001b[39msort(key\u001b[38;5;241m=\u001b[39m\u001b[38;5;28;01mlambda\u001b[39;00m x: x[\u001b[38;5;241m1\u001b[39m])\n",
      "Cell \u001b[1;32mIn[8], line 3\u001b[0m, in \u001b[0;36meuclidean_distance\u001b[1;34m(row1, row2)\u001b[0m\n\u001b[0;32m      2\u001b[0m \u001b[38;5;28;01mdef\u001b[39;00m \u001b[38;5;21meuclidean_distance\u001b[39m(row1, row2):\n\u001b[1;32m----> 3\u001b[0m     \u001b[38;5;28;01mreturn\u001b[39;00m \u001b[43mnp\u001b[49m\u001b[38;5;241m.\u001b[39msqrt(np\u001b[38;5;241m.\u001b[39msum((row1 \u001b[38;5;241m-\u001b[39m row2) \u001b[38;5;241m*\u001b[39m\u001b[38;5;241m*\u001b[39m \u001b[38;5;241m2\u001b[39m))\n",
      "\u001b[1;31mNameError\u001b[0m: name 'np' is not defined"
     ]
    }
   ],
   "source": [
    "# Example usage\n",
    "input_description = \"Looking for a software engineer with experience in Python and machine learning.\"\n",
    "predicted_job_title = predict_job_title(input_description)\n",
    "print(f'Predicted Job Title: {predicted_job_title}')"
   ]
  },
  {
   "cell_type": "code",
   "execution_count": 11,
   "id": "ef50253b-a96c-41e4-8965-315c127315ae",
   "metadata": {},
   "outputs": [],
   "source": [
    "import pickle\n",
    "import pandas as pd\n",
    "import numpy as np  # Import NumPy for numerical operations\n",
    "from sklearn.feature_extraction.text import TfidfVectorizer"
   ]
  },
  {
   "cell_type": "code",
   "execution_count": 12,
   "id": "1fc6bf88-28c9-4947-882b-12ffb821bef2",
   "metadata": {},
   "outputs": [],
   "source": [
    "# Step 1: Load the pickled model and vectorizer\n",
    "with open('model.pk', 'rb') as model_file:\n",
    "    X_train, y_train = pickle.load(model_file)  # Load training data for prediction use\n",
    "\n",
    "with open('vectorizer.pk', 'rb') as vectorizer_file:\n",
    "    vectorizer = pickle.load(vectorizer_file)  # Load the vectorizer\n"
   ]
  },
  {
   "cell_type": "code",
   "execution_count": 13,
   "id": "c2c0d794-adf5-4c95-afab-130c2fc73d99",
   "metadata": {},
   "outputs": [],
   "source": [
    "# Step 2: Function to clean and vectorize a job description\n",
    "def preprocess_description(description):\n",
    "    # Clean the job description\n",
    "    description = description.lower().replace(r'[^a-z\\s]', '')  # Clean text\n",
    "    # Vectorize the description\n",
    "    vectorized_description = vectorizer.transform([description]).toarray()\n",
    "    return vectorized_description"
   ]
  },
  {
   "cell_type": "code",
   "execution_count": 14,
   "id": "5916503e-e98b-436b-a76b-129fd32da886",
   "metadata": {},
   "outputs": [],
   "source": [
    "# Step 3: Make a prediction\n",
    "def predict_job_title(description):\n",
    "    vectorized_description = preprocess_description(description)\n",
    "    predicted_label = predict(X_train, y_train, vectorized_description[0], num_neighbors=5)\n",
    "    return predicted_label  # Return the predicted job title\n"
   ]
  },
  {
   "cell_type": "code",
   "execution_count": 15,
   "id": "c2723c31-c64d-44da-91e4-1f4974a16071",
   "metadata": {},
   "outputs": [],
   "source": [
    "\n",
    "# Step 4: Define the prediction function\n",
    "def predict(X_train, y_train, test_row, num_neighbors):\n",
    "    neighbors = get_neighbors(X_train, y_train, test_row, num_neighbors)\n",
    "    prediction = max(set(neighbors), key=neighbors.count)\n",
    "    return prediction"
   ]
  },
  {
   "cell_type": "code",
   "execution_count": 16,
   "id": "b758ace8-13ab-4140-bdc8-077802631f91",
   "metadata": {},
   "outputs": [],
   "source": [
    "# Step 5: Get neighbors based on Euclidean distance\n",
    "def get_neighbors(X_train, y_train, test_row, num_neighbors):\n",
    "    distances = []\n",
    "    for i in range(len(X_train)):\n",
    "        dist = euclidean_distance(test_row, X_train[i])\n",
    "        distances.append((y_train.iloc[i], dist))\n",
    "    distances.sort(key=lambda x: x[1])\n",
    "    neighbors = [distances[i][0] for i in range(num_neighbors)]\n",
    "    return neighbors"
   ]
  },
  {
   "cell_type": "code",
   "execution_count": 17,
   "id": "cfdad979-24c1-4c9d-bc2a-8c7b677caa3a",
   "metadata": {},
   "outputs": [],
   "source": [
    "# Step 6: Calculate the Euclidean distance\n",
    "def euclidean_distance(row1, row2):\n",
    "    return np.sqrt(np.sum((row1 - row2) ** 2))"
   ]
  },
  {
   "cell_type": "code",
   "execution_count": 18,
   "id": "43b7aedc-d9b0-4cbb-93ec-073781b503bb",
   "metadata": {},
   "outputs": [
    {
     "name": "stdout",
     "output_type": "stream",
     "text": [
      "Predicted Job Title: Quality Assurance Analyst\n"
     ]
    }
   ],
   "source": [
    "# Example usage\n",
    "input_description = \"Looking for a software engineer with experience in Python and machine learning.\"\n",
    "predicted_job_title = predict_job_title(input_description)\n",
    "print(f'Predicted Job Title: {predicted_job_title}')"
   ]
  },
  {
   "cell_type": "code",
   "execution_count": null,
   "id": "11229621-2533-40e0-a584-b4e7f431be31",
   "metadata": {},
   "outputs": [],
   "source": []
  }
 ],
 "metadata": {
  "kernelspec": {
   "display_name": "Python 3 (ipykernel)",
   "language": "python",
   "name": "python3"
  },
  "language_info": {
   "codemirror_mode": {
    "name": "ipython",
    "version": 3
   },
   "file_extension": ".py",
   "mimetype": "text/x-python",
   "name": "python",
   "nbconvert_exporter": "python",
   "pygments_lexer": "ipython3",
   "version": "3.12.4"
  }
 },
 "nbformat": 4,
 "nbformat_minor": 5
}
